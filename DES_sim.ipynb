{
 "cells": [
  {
   "cell_type": "markdown",
   "metadata": {},
   "source": [
    "# DES\tsimulation\tassignment"
   ]
  },
  {
   "cell_type": "markdown",
   "metadata": {},
   "source": [
    "### 0 Init"
   ]
  },
  {
   "cell_type": "code",
   "execution_count": 6,
   "metadata": {},
   "outputs": [],
   "source": [
    "import simpy\n",
    "import numpy as np\n",
    "import random\n",
    "import statistics"
   ]
  },
  {
   "cell_type": "code",
   "execution_count": 14,
   "metadata": {},
   "outputs": [],
   "source": [
    "def DES_queue(size, arrival_rate, service_rate, n):\n",
    "    env = simpy.Environment()\n",
    "    servers = simpy.Resource(env, capacity = n)\n",
    "\n",
    "    inter_arrival_times = []\n",
    "    service_times = []\n",
    "\n",
    "    waiting_times = []\n",
    "\n",
    "    def customer_generator(env, size , servers, arrival_rate, service_rate):\n",
    "        ''' Generates a costumer after a delay of the arrival time and processes the customer  '''\n",
    "        for i in range(size):\n",
    "            dt = random.expovariate(1/arrival_rate)\n",
    "            inter_arrival_times.append(dt)\n",
    "            yield env.timeout(dt)\n",
    "            costomer = customer_processing(env,servers,arrival_rate,service_rate)\n",
    "            env.process(costomer)\n",
    "\n",
    "    def customer_processing(env, servers, arrival_rate, service_rate):\n",
    "        ''' Processed the customer'''\n",
    "        arrival_time = env.now\n",
    "\n",
    "        with servers.request() as request:\n",
    "            yield request  # Wait for a server to become available\n",
    "            wait_time = env.now - arrival_time\n",
    "            waiting_times.append(wait_time)  # Log the wait time\n",
    "            # Service time\n",
    "            ds = random.expovariate(1/service_rate)\n",
    "            service_times.append(ds)\n",
    "            yield env.timeout(ds)\n",
    "\n",
    "    env.process(customer_generator(env, size, servers,arrival_rate,service_rate))\n",
    "\n",
    "    env.run()\n",
    "    \n",
    "    mean_interarrival = statistics.mean(inter_arrival_times)\n",
    "    mean_waiting = statistics.mean(waiting_times)\n",
    "    mean_service = statistics.mean(service_times)\n",
    "\n",
    "    return [mean_interarrival, mean_waiting, mean_service]\n"
   ]
  },
  {
   "cell_type": "code",
   "execution_count": 16,
   "metadata": {},
   "outputs": [
    {
     "name": "stdout",
     "output_type": "stream",
     "text": [
      "[0.021987036583132776, 0.014845075456318604, 0.0003123685704554191, 0.026311455618014533, 0.01714800204954372, 0.0073575483487449845, 0.012282352999174613, 0.014114309375716871, 0.0068253213221670704, 0.007625261342117114]\n",
      "[0.0010458054804274753, 0.0, 0.0, 0.0, 0.0, 0.003553656258603439, 0.001235375634079503, 0.0, 0.0, 0.0]\n",
      "[0.0, 0.0, 0.0, 0.0, 0.0, 0.0, 0.0, 0.0, 0.0, 0.0]\n"
     ]
    }
   ],
   "source": [
    "size = 100\n",
    "system_load = 0.95\n",
    "mean_service_time = 4\n",
    "mu = 1/mean_service_time\n",
    "servers = [1,2,4]\n",
    "num_simulations = 10\n",
    "\n",
    "def lamda(n):\n",
    "    return 1 / (n*system_load * mu)\n",
    "\n",
    "results = {1: [], 2: [], 4: []}\n",
    "\n",
    "for n in servers:\n",
    "    for _ in range(num_simulations):\n",
    "        result = DES_queue(size, lamda(n), mu, n)\n",
    "        results[n].append(result[1])\n",
    "\n",
    "for res in results:\n",
    "    print(results[res])"
   ]
  }
 ],
 "metadata": {
  "kernelspec": {
   "display_name": "Python 3",
   "language": "python",
   "name": "python3"
  },
  "language_info": {
   "codemirror_mode": {
    "name": "ipython",
    "version": 3
   },
   "file_extension": ".py",
   "mimetype": "text/x-python",
   "name": "python",
   "nbconvert_exporter": "python",
   "pygments_lexer": "ipython3",
   "version": "3.11.7"
  }
 },
 "nbformat": 4,
 "nbformat_minor": 2
}
