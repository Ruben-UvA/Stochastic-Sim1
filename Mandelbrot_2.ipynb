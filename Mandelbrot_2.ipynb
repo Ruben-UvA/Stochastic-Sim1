{
 "cells": [
  {
   "cell_type": "markdown",
   "metadata": {},
   "source": [
    "# Area of the Mandelbrot set\n"
   ]
  },
  {
   "cell_type": "markdown",
   "metadata": {},
   "source": [
    "### 0 Init\n"
   ]
  },
  {
   "cell_type": "code",
   "execution_count": null,
   "metadata": {},
   "outputs": [],
   "source": [
    "import matplotlib.pyplot as plt\n",
    "import numpy as np\n",
    "import random"
   ]
  },
  {
   "cell_type": "markdown",
   "metadata": {},
   "source": [
    "### 1 Mandelbrot"
   ]
  },
  {
   "cell_type": "code",
   "execution_count": null,
   "metadata": {},
   "outputs": [],
   "source": [
    "def mandel_number(x, y, max_iter):\n",
    "    ''' Returns the number of iterations needed for the Mandelbrot map to get out of scope '''\n",
    "    a1, b1 = 0, 0\n",
    "    for f in range(max_iter):\n",
    "        if (a1 * a1 + b1 * b1) >= 4:\n",
    "            return f\n",
    "        a, b = a1 * a1 - b1 * b1 + x, 2 * a1 * b1 + y\n",
    "        a1, b1 = a, b\n",
    "    return max_iter\n",
    "\n",
    "def colors(x, y, max_iter=100):\n",
    "    ''' Calculates colors based on the number of iterations'''\n",
    "    mandel_num = mandel_number(x, y, max_iter)\n",
    "    if mandel_num < 10:\n",
    "        g = mandel_num / 10\n",
    "        return (0.2,  0, 0.9*g)  \n",
    "    else:\n",
    "        g = mandel_num / 100\n",
    "        return (0.2, 0, 0.9*g)\n",
    "\n",
    "\n",
    "def mandelbrot_image(s=500, xrange=(-2, 1.5), yrange=(-1.5, 1.5)):\n",
    "    ''' Creates an image of the Mandelbrot set'''\n",
    "    # Empty array voor x,y coordinated with colors\n",
    "    img = np.zeros((s, s, 3))\n",
    "    \n",
    "    x_vals = np.linspace(xrange[0], xrange[1], s)\n",
    "    y_vals = np.linspace(yrange[0], yrange[1], s)\n",
    "    \n",
    "    # Loop over each pixel and color it based on the Mandelbrot numbers\n",
    "    for i, x in enumerate(x_vals):\n",
    "        for j, y in enumerate(y_vals):\n",
    "            img[j, i] = colors(x, y)  \n",
    "\n",
    "    # Toon de afbeelding\n",
    "    plt.imshow(img, extent=(xrange[0], xrange[1], yrange[0], yrange[1]))\n",
    "    plt.title(\"Mandelbrot Set Visualization\")\n",
    "    plt.xlabel(\"Re(c)\")\n",
    "    plt.ylabel(\"Im(c)\")\n",
    "    plt.tight_layout()\n",
    "    plt.show()\n",
    "\n"
   ]
  },
  {
   "cell_type": "code",
   "execution_count": null,
   "metadata": {},
   "outputs": [],
   "source": [
    "mandelbrot_image()"
   ]
  },
  {
   "cell_type": "markdown",
   "metadata": {},
   "source": [
    "### 2 Monte Carlo"
   ]
  },
  {
   "cell_type": "code",
   "execution_count": null,
   "metadata": {},
   "outputs": [],
   "source": [
    "def in_mandelbrot_set(x,y, max_iter):\n",
    "    ''' Determine if a complex number is part of the Mandelbrot set'''\n",
    "    a1, b1 = 0, 0\n",
    "    for f in range(max_iter):\n",
    "        if (a1 * a1 + b1 * b1) >= 4:\n",
    "            return 0\n",
    "        a, b = a1 * a1 - b1 * b1 + x, 2 * a1 * b1 + y\n",
    "        a1, b1 = a, b\n",
    "    return 1\n",
    "\n",
    "    \n",
    "def monte_carlo(samples = 2000000, max_iter=100 ,xrange=(-2, 1.5), yrange=(-1.5, 1.5), plot = True ):\n",
    "    ''' Approach the surface area of the Mandelbrot set by the Monte Carlo method'''\n",
    "    x_min, x_max = xrange\n",
    "    y_min, y_max = yrange\n",
    "    region_area = (x_max - x_min) * (y_max - y_min)\n",
    "    \n",
    "    x_points = []\n",
    "    y_points = []\n",
    "    \n",
    "    area_count = 0\n",
    "    for i in range(samples):\n",
    "        x = random.uniform(x_min,x_max)\n",
    "        y = random.uniform(y_min,y_max)\n",
    "        result = in_mandelbrot_set(x,y, max_iter)\n",
    "        area_count += result\n",
    "        if plot:\n",
    "            if result == 1:\n",
    "                x_points.append(x)\n",
    "                y_points.append(y)\n",
    "\n",
    "    # Estimate the area of the Mandelbrot set\n",
    "    mandel_area = (area_count/samples) * region_area\n",
    "    \n",
    "    if plot: \n",
    "        # Plot the random points that are in the set\n",
    "        plt.scatter(x_points, y_points, color=\"blue\", s=0.1, label=\"Inside Mandelbrot\")\n",
    "        plt.xlabel(\"Re(c)\")\n",
    "        plt.ylabel(\"Im(c)\")\n",
    "        plt.title(\"Monte Carlo Sampling of the Mandelbrot Set\")\n",
    "        plt.xlim(-2, 1.5)\n",
    "        plt.ylim(-1.5, 1.5)\n",
    "        plt.axis(\"equal\")\n",
    "        plt.show()\n",
    "    \n",
    "    return mandel_area"
   ]
  },
  {
   "cell_type": "code",
   "execution_count": null,
   "metadata": {},
   "outputs": [],
   "source": [
    "monte_carlo(samples = 100000)"
   ]
  },
  {
   "cell_type": "code",
   "execution_count": null,
   "metadata": {},
   "outputs": [],
   "source": [
    "monte_carlo()"
   ]
  },
  {
   "cell_type": "code",
   "execution_count": null,
   "metadata": {},
   "outputs": [],
   "source": [
    "mc = [0,0,0,0]\n",
    "for i in range(4):\n",
    "    mc[i] = monte_carlo(samples = 10000000, max_iter = 300, plot = False)\n",
    "\n",
    "print(mc)\n",
    "print(np.average(mc))"
   ]
  },
  {
   "cell_type": "code",
   "execution_count": null,
   "metadata": {},
   "outputs": [],
   "source": [
    "mc = [0,0,0,0]\n",
    "for i in range(4):\n",
    "    mc[i] = monte_carlo(samples = 10000000, max_iter = 500, plot = False)\n",
    "\n",
    "print(mc)\n",
    "print(np.average(mc))"
   ]
  },
  {
   "cell_type": "code",
   "execution_count": null,
   "metadata": {},
   "outputs": [],
   "source": [
    "n = 6  # Number of values for j\n",
    "k = 20 # Iterations per j value\n",
    "j_list = [10**i for i in range(2, n+1)]\n",
    "log_points = np.logspace(2, n, num=100)\n",
    "j_list = np.unique(np.round(log_points).astype(int))\n",
    "\n",
    "\n",
    "results_all = np.zeros((len(j_list),k))\n",
    "\n",
    "for l,j in enumerate(j_list):\n",
    "    result = np.zeros(k)\n",
    "    for i in range(k):\n",
    "        result[i] =  monte_carlo(samples = j, plot = False)\n",
    "    results_all[l] = result\n",
    "\n",
    "A_true = 1.506484\n",
    "\n",
    "error = np.zeros(len((j_list)))\n",
    "for i,res in enumerate(results_all):\n",
    "    error[i] = np.abs(A_true - np.average(res))\n",
    "\n",
    "plt.scatter(j_list, errors, s=10, color = 'red', label=\"Error\")\n",
    "plt.plot(j_list, errors, color = 'red',  alpha = 0.6 ,label=\"Error Trend\")\n",
    "plt.xscale('log')\n",
    "plt.xlabel(\"Samples\")\n",
    "plt.ylabel(\"Absoluut error\")\n",
    "plt.title(\"Error in Monte Carlo estimate of Mandelbrot area\")\n",
    "\n"
   ]
  },
  {
   "cell_type": "markdown",
   "metadata": {},
   "source": [
    "### 3 Monte Carlo variations"
   ]
  },
  {
   "cell_type": "code",
   "execution_count": null,
   "metadata": {},
   "outputs": [],
   "source": [
    "def latin_hypercube(n, lower_bounds, upper_bounds):\n",
    "    \n",
    "    intervals = np.linspace(0, 1, n + 1)\n",
    "    points = np.zeros((n, 2))\n",
    "    rng = np.random.default_rng()\n",
    "\n",
    "    for i in range(2):\n",
    "\n",
    "        shuffled_intervals = intervals[:-1].copy()\n",
    "        rng.shuffle(shuffled_intervals)\n",
    "        points[:, i] = shuffled_intervals + rng.uniform(size=n) * (intervals[1:] - intervals[:-1])\n",
    "    \n",
    "    points = lower_bounds + points * (upper_bounds - lower_bounds)\n",
    "    return points\n",
    "\n",
    "def monte_carlo_lhs(samples = 100, max_iter = 100, xrange = (-2,1.5), yrange = (-1.5,1.5)):\n",
    "\n",
    "    x_min, x_max = xrange\n",
    "    y_min, y_max = yrange\n",
    "    region_area = (x_max - x_min) * (y_max - y_min)\n",
    "\n",
    "    lower_bounds = np.array([x_min, y_min])\n",
    "    upper_bounds = np.array([x_max, y_max])\n",
    "    samples_lhs = latin_hypercube(samples, lower_bounds, upper_bounds)\n",
    "\n",
    "    area_count = 0\n",
    "    for x, y in samples_lhs:\n",
    "        if inset(x, y, max_iter):\n",
    "            area_count += 1\n",
    "    \n",
    "    mandel_area = (area_count / samples) * region_area\n",
    "    return mandel_area\n",
    "\n",
    "lhs_estimate = monte_carlo_lhs(samples=1000)\n",
    "print(lhs_estimate)\n"
   ]
  },
  {
   "cell_type": "code",
   "execution_count": null,
   "metadata": {},
   "outputs": [],
   "source": [
    "mc = [0,0,0,0]\n",
    "for i in range(4):\n",
    "    mc[i] = monte_carlo_lhs(samples = 1000, max_iter = 500)\n",
    "\n",
    "print(mc)\n",
    "print(np.average(mc))"
   ]
  },
  {
   "cell_type": "code",
   "execution_count": null,
   "metadata": {},
   "outputs": [],
   "source": [
    "xrange= [-2, 1.5]\n",
    "yrange= [-1.5, 1.5]\n",
    "\n",
    "n = 1000000\n",
    "\n",
    "# make nXn grid\n",
    "x_splits = np.linspace(xrange[0], xrange[1], n+1)\n",
    "y_splits = np.linspace(yrange[0], yrange[1], n+1)\n",
    "\n",
    "def mandel_test(x, y, max_iter):\n",
    "    ''' Returns the number of iterations needed for the Mandelbrot map to get out of scope '''\n",
    "    a1, b1 = 0, 0\n",
    "    for f in range(max_iter):\n",
    "        if (a1 * a1 + b1 * b1) >= 4:\n",
    "            return 0\n",
    "        a, b = a1 * a1 - b1 * b1 + x, 2 * a1 * b1 + y\n",
    "        a1, b1 = a, b\n",
    "    return 1\n",
    "\n",
    "\n",
    "\n",
    "sqrt_n = int(np.sqrt(n))\n",
    "# make loop with steps of 2\n",
    "planes = []\n",
    "surfaces = []\n",
    "points = 0\n",
    "for i in range(0,n,sqrt_n):\n",
    "    for j in range(0,n,sqrt_n):\n",
    "        # choose between 0 and sqrt_n\n",
    "        x = random.randint(0,sqrt_n-1)\n",
    "        y = random.randint(0,sqrt_n-1)\n",
    "        x = x_splits[i+x]\n",
    "        y = y_splits[j+y]\n",
    "        points += mandel_test(x,y,100)\n",
    "        surfaces.append([x_splits[i], x_splits[i+sqrt_n], y_splits[j], y_splits[j+sqrt_n]])\n",
    "        planes.append([x,y])\n",
    "\n",
    "#print(points)\n",
    "print((points/n) * 3.5 * 3)"
   ]
  },
  {
   "cell_type": "markdown",
   "metadata": {},
   "source": [
    "### 4 Monte Carlo Improvement"
   ]
  },
  {
   "cell_type": "code",
   "execution_count": 54,
   "metadata": {},
   "outputs": [
    {
     "data": {
      "image/png": "[encoded data removed]",
      "text/plain": [
       "<Figure size 640x480 with 1 Axes>"
      ]
     },
     "metadata": {},
     "output_type": "display_data"
    }
   ],
   "source": [
    "xrange= [-2, 1.5]\n",
    "yrange= [-1.5,1.5]\n",
    "\n",
    "def make_planes(xrange, yrange, amount_of_xsplits, amount_of_ysplits):\n",
    "    ''' Devide the surface in smaller planes'''\n",
    "    x_splits = np.linspace(xrange[0], xrange[1], amount_of_xsplits+1)\n",
    "    y_splits = np.linspace(yrange[0], yrange[1], amount_of_ysplits+1)\n",
    "    # make planes\n",
    "    planes = []\n",
    "    for i in range(amount_of_xsplits):\n",
    "        for j in range(amount_of_ysplits):\n",
    "            planes.append([x_splits[i], x_splits[i+1], y_splits[j], y_splits[j+1]])\n",
    "    return planes\n",
    "\n",
    "def plot_planes_and_mandelbrot(planes, xrange, yrange):\n",
    "    ''' Plot the planes and mandelbrot function '''\n",
    "    img = np.zeros((500, 500, 3))\n",
    "    x_vals = np.linspace(xrange[0], xrange[1], 500)\n",
    "    y_vals = np.linspace(yrange[0], yrange[1], 500)\n",
    "    for i, x in enumerate(x_vals):\n",
    "        for j, y in enumerate(y_vals):\n",
    "            if mandel_number(x, y, 100) == 100:\n",
    "                img[j, i] = (0, 0, 0)\n",
    "            else:\n",
    "                img[j, i] = (1, 1, 1) \n",
    "    plt.imshow(img, extent=(xrange[0], xrange[1], yrange[0], yrange[1]))\n",
    "    for plane in planes:\n",
    "        plt.plot([plane[0], plane[1], plane[1], plane[0], plane[0]], [plane[2], plane[2], plane[3], plane[3], plane[2]], color = 'black')\n",
    "    plt.show()\n",
    "\n",
    "planes = make_planes(xrange, yrange, 5, 5)\n",
    "plot_planes_and_mandelbrot(planes, xrange, yrange)"
   ]
  },
  {
   "cell_type": "code",
   "execution_count": 97,
   "metadata": {},
   "outputs": [],
   "source": [
    "\n",
    "def monte_carlo_p(x,y, max_iter):\n",
    "    a1, b1 = 0, 0\n",
    "    for f in range(max_iter):\n",
    "        a1s = a1 * a1\n",
    "        b1s = b1 * b1\n",
    "        if (a1s + b1s) >= 4:\n",
    "            return 0\n",
    "        a, b = a1s - b1s + x, 2 * a1 * b1 + y\n",
    "        a1, b1 = a, b\n",
    "    return 1\n",
    "\n",
    "def monte_carlo_plane(plane, n, max_iter = 100):\n",
    "    ''' Monte Carlo method for the Mandelbrot set with planes'''\n",
    "    samples = np.random.uniform((plane[0], plane[2]), (plane[1], plane[3]), (n, 2))\n",
    "    total_area = np.sum([monte_carlo_p(x, y, max_iter) for x, y in samples]) / n\n",
    "    return total_area\n",
    "\n",
    "def monte_carlo_planes(planes, n, max_iter = 100):\n",
    "    amount_of_planes = len(planes)\n",
    "    amount_of_n_per_plane = int(n / amount_of_planes)\n",
    "    half = int(amount_of_n_per_plane / 2)\n",
    "    result_per_plane = np.zeros(amount_of_planes)\n",
    "    for i, plane in enumerate(planes):\n",
    "        result_per_plane[i] = monte_carlo_plane(plane, half, max_iter)\n",
    "    amount_of_zeros = np.count_nonzero(result_per_plane == 0)\n",
    "    amount_of_ones = np.count_nonzero(result_per_plane == 1)\n",
    "    iterations_do = (((amount_of_zeros+amount_of_ones) * half) / (amount_of_planes - amount_of_zeros - amount_of_ones)) + half\n",
    "    second_half = np.zeros(amount_of_planes)\n",
    "    for i in range(result_per_plane.size):\n",
    "        if result_per_plane[i] != 0 or result_per_plane[i] != 1:\n",
    "            second_half[i] = monte_carlo_plane(planes[i], int(iterations_do), max_iter)\n",
    "        else:\n",
    "            second_half[i] = result_per_plane[i]\n",
    "    total_size = 0\n",
    "    size = (planes[0][1] - planes[0][0]) * (planes[0][3] - planes[0][2])\n",
    "    for i in range(amount_of_planes):\n",
    "        percentage = (result_per_plane[i] * half + second_half[i] * int(iterations_do)) / (half + int(iterations_do))\n",
    "        total_size += percentage * size\n",
    "    return total_size\n",
    "\n"
   ]
  },
  {
   "cell_type": "code",
   "execution_count": 106,
   "metadata": {},
   "outputs": [
    {
     "name": "stdout",
     "output_type": "stream",
     "text": [
      "Time for j=100: 0.1620042324066162\n",
      "[1.5498278145695366]\n",
      "Time for j=1000: 1.1546478271484375\n",
      "[1.5498278145695366, 1.5102]\n",
      "Time for j=10000: 11.674817323684692\n",
      "[1.5498278145695366, 1.5102, 1.499205298013245]\n",
      "Time for j=100000: 116.93061661720276\n",
      "[1.5498278145695366, 1.5102, 1.499205298013245, 1.5069933774834436]\n"
     ]
    }
   ],
   "source": [
    "list_of_j = [10**i for i in range(2, 6)]\n",
    "import time\n",
    "restults = []\n",
    "for j in list_of_j:\n",
    "    start = time.time()\n",
    "    planes = make_planes(xrange, yrange, 5, 5)\n",
    "    restults.append(monte_carlo_planes(planes, 10000, max_iter=j))\n",
    "    stop = time.time()\n",
    "    print(f\"Time for j={j}: {stop-start}\")\n",
    "    print(restults)"
   ]
  },
  {
   "cell_type": "code",
   "execution_count": 107,
   "metadata": {},
   "outputs": [
    {
     "data": {
      "image/png": "[encoded data removed]",
      "text/plain": [
       "<Figure size 640x480 with 1 Axes>"
      ]
     },
     "metadata": {},
     "output_type": "display_data"
    }
   ],
   "source": [
    "# make plot of the results\n",
    "plt.plot(list_of_j, restults)\n",
    "plt.xscale('log')\n",
    "plt.xlabel('Number of iterations')\n",
    "plt.ylabel('Area of the Mandelbrot set')\n",
    "plt.title('Area of the Mandelbrot set with different number of iterations for 25 squares')\n",
    "plt.show()\n",
    "\n"
   ]
  },
  {
   "cell_type": "code",
   "execution_count": 108,
   "metadata": {},
   "outputs": [
    {
     "data": {
      "image/png": "[encoded data removed]",
      "text/plain": [
       "<Figure size 640x480 with 1 Axes>"
      ]
     },
     "metadata": {},
     "output_type": "display_data"
    }
   ],
   "source": [
    "# make error plot\n",
    "A_true = 1.506484\n",
    "errors = []\n",
    "for result in restults:\n",
    "    errors.append(np.abs(A_true - result))\n",
    "plt.plot(list_of_j, errors)\n",
    "plt.xscale('log')\n",
    "plt.xlabel('Number of iterations')\n",
    "plt.ylabel('Error')\n",
    "plt.title('Error of the Monte Carlo estimate of the Mandelbrot area')\n",
    "plt.show()"
   ]
  },
  {
   "cell_type": "code",
   "execution_count": 124,
   "metadata": {},
   "outputs": [],
   "source": [
    "import numpy as np\n",
    "\n",
    "def monte_carlo_p_numpy(xs, ys, max_iter):\n",
    "    \"\"\"\n",
    "    Vectorized Monte Carlo Mandelbrot calculation.\n",
    "    \n",
    "    Parameters:\n",
    "        xs: np.ndarray - Array of x-coordinates.\n",
    "        ys: np.ndarray - Array of y-coordinates.\n",
    "        max_iter: int - Maximum number of iterations.\n",
    "    \n",
    "    Returns:\n",
    "        np.ndarray - Array of 0s and 1s indicating if a point is in the Mandelbrot set.\n",
    "    \"\"\"\n",
    "    # Startwaarden\n",
    "    a = np.zeros_like(xs)\n",
    "    b = np.zeros_like(ys)\n",
    "    mask = np.ones_like(xs, dtype=bool)  # Mask for active points\n",
    "    result = np.zeros_like(xs, dtype=int)  # Initialize all points as outside\n",
    "\n",
    "    for _ in range(max_iter):\n",
    "        a_squared = a ** 2\n",
    "        b_squared = b ** 2\n",
    "\n",
    "        # Magnitude check: Points that escape\n",
    "        magnitude = a_squared + b_squared\n",
    "        diverge = magnitude >= 4\n",
    "        result[diverge & mask] = 0  # Diverging points are outside the set\n",
    "        mask = mask & ~diverge  # Update mask for points still in the set\n",
    "\n",
    "        if not mask.any():  # Stop if all points have diverged\n",
    "            break\n",
    "\n",
    "        # Update active points\n",
    "        a_new = a_squared - b_squared + xs\n",
    "        b_new = 2 * a * b + ys\n",
    "        a[mask] = a_new[mask]\n",
    "        b[mask] = b_new[mask]\n",
    "\n",
    "    result[mask] = 1 \n",
    "    return result\n",
    "\n",
    "def monte_carlo_plane_numpy(plane, n, max_iter=100):\n",
    "    xs, ys = np.random.uniform(plane[0], plane[1], n), np.random.uniform(plane[2], plane[3], n)\n",
    "    membership = monte_carlo_p_numpy(xs, ys, max_iter)\n",
    "    return np.mean(membership)\n",
    "\n",
    "def monte_carlo_planes(planes, n, max_iter = 100):\n",
    "    amount_of_planes = len(planes)\n",
    "    amount_of_n_per_plane = int(n / amount_of_planes)\n",
    "    half = int(amount_of_n_per_plane / 2)\n",
    "    result_per_plane = np.zeros(amount_of_planes)\n",
    "    for i, plane in enumerate(planes):\n",
    "        result_per_plane[i] = monte_carlo_plane_numpy(plane, half, max_iter)\n",
    "    amount_of_zeros = np.count_nonzero(result_per_plane == 0)\n",
    "    amount_of_ones = np.count_nonzero(result_per_plane == 1)\n",
    "    iterations_do = (((amount_of_zeros+amount_of_ones) * half) / (amount_of_planes - amount_of_zeros - amount_of_ones)) + half\n",
    "    second_half = np.zeros(amount_of_planes)\n",
    "    for i in range(result_per_plane.size):\n",
    "        if result_per_plane[i] != 0 or result_per_plane[i] != 1:\n",
    "            second_half[i] = monte_carlo_plane_numpy(planes[i], int(iterations_do), max_iter)\n",
    "        else:\n",
    "            second_half[i] = result_per_plane[i]\n",
    "    total_size = 0\n",
    "    size = (planes[0][1] - planes[0][0]) * (planes[0][3] - planes[0][2])\n",
    "    for i in range(amount_of_planes):\n",
    "        percentage = (result_per_plane[i] * half + second_half[i] * int(iterations_do)) / (half + int(iterations_do))\n",
    "        total_size += percentage * size\n",
    "    return total_size\n",
    "\n"
   ]
  },
  {
   "cell_type": "code",
   "execution_count": null,
   "metadata": {},
   "outputs": [
    {
     "name": "stdout",
     "output_type": "stream",
     "text": [
      "Time for j=100: 0.04055142402648926\n",
      "[1.5526092715231787]\n",
      "Time for j=1000: 0.3192555904388428\n",
      "[1.5526092715231787, 1.5103311258278147]\n",
      "Time for j=10000: 3.1169846057891846\n",
      "[1.5526092715231787, 1.5103311258278147, 1.4847417218543044]\n"
     ]
    },
    {
     "ename": "KeyboardInterrupt",
     "evalue": "",
     "output_type": "error",
     "traceback": [
      "\u001b[1;31m---------------------------------------------------------------------------\u001b[0m",
      "\u001b[1;31mKeyboardInterrupt\u001b[0m                         Traceback (most recent call last)",
      "Cell \u001b[1;32mIn[125], line 7\u001b[0m\n\u001b[0;32m      5\u001b[0m start \u001b[38;5;241m=\u001b[39m time\u001b[38;5;241m.\u001b[39mtime()\n\u001b[0;32m      6\u001b[0m planes \u001b[38;5;241m=\u001b[39m make_planes(xrange, yrange, \u001b[38;5;241m5\u001b[39m, \u001b[38;5;241m5\u001b[39m)\n\u001b[1;32m----> 7\u001b[0m restults\u001b[38;5;241m.\u001b[39mappend(\u001b[43mmonte_carlo_planes\u001b[49m\u001b[43m(\u001b[49m\u001b[43mplanes\u001b[49m\u001b[43m,\u001b[49m\u001b[43m \u001b[49m\u001b[38;5;241;43m10000\u001b[39;49m\u001b[43m,\u001b[49m\u001b[43m \u001b[49m\u001b[43mmax_iter\u001b[49m\u001b[38;5;241;43m=\u001b[39;49m\u001b[43mj\u001b[49m\u001b[43m)\u001b[49m)\n\u001b[0;32m      8\u001b[0m stop \u001b[38;5;241m=\u001b[39m time\u001b[38;5;241m.\u001b[39mtime()\n\u001b[0;32m      9\u001b[0m \u001b[38;5;28mprint\u001b[39m(\u001b[38;5;124mf\u001b[39m\u001b[38;5;124m\"\u001b[39m\u001b[38;5;124mTime for j=\u001b[39m\u001b[38;5;132;01m{\u001b[39;00mj\u001b[38;5;132;01m}\u001b[39;00m\u001b[38;5;124m: \u001b[39m\u001b[38;5;132;01m{\u001b[39;00mstop\u001b[38;5;241m-\u001b[39mstart\u001b[38;5;132;01m}\u001b[39;00m\u001b[38;5;124m\"\u001b[39m)\n",
      "Cell \u001b[1;32mIn[124], line 54\u001b[0m, in \u001b[0;36mmonte_carlo_planes\u001b[1;34m(planes, n, max_iter)\u001b[0m\n\u001b[0;32m     52\u001b[0m result_per_plane \u001b[38;5;241m=\u001b[39m np\u001b[38;5;241m.\u001b[39mzeros(amount_of_planes)\n\u001b[0;32m     53\u001b[0m \u001b[38;5;28;01mfor\u001b[39;00m i, plane \u001b[38;5;129;01min\u001b[39;00m \u001b[38;5;28menumerate\u001b[39m(planes):\n\u001b[1;32m---> 54\u001b[0m     result_per_plane[i] \u001b[38;5;241m=\u001b[39m \u001b[43mmonte_carlo_plane_numpy\u001b[49m\u001b[43m(\u001b[49m\u001b[43mplane\u001b[49m\u001b[43m,\u001b[49m\u001b[43m \u001b[49m\u001b[43mhalf\u001b[49m\u001b[43m,\u001b[49m\u001b[43m \u001b[49m\u001b[43mmax_iter\u001b[49m\u001b[43m)\u001b[49m\n\u001b[0;32m     55\u001b[0m amount_of_zeros \u001b[38;5;241m=\u001b[39m np\u001b[38;5;241m.\u001b[39mcount_nonzero(result_per_plane \u001b[38;5;241m==\u001b[39m \u001b[38;5;241m0\u001b[39m)\n\u001b[0;32m     56\u001b[0m amount_of_ones \u001b[38;5;241m=\u001b[39m np\u001b[38;5;241m.\u001b[39mcount_nonzero(result_per_plane \u001b[38;5;241m==\u001b[39m \u001b[38;5;241m1\u001b[39m)\n",
      "Cell \u001b[1;32mIn[124], line 45\u001b[0m, in \u001b[0;36mmonte_carlo_plane_numpy\u001b[1;34m(plane, n, max_iter)\u001b[0m\n\u001b[0;32m     43\u001b[0m \u001b[38;5;28;01mdef\u001b[39;00m \u001b[38;5;21mmonte_carlo_plane_numpy\u001b[39m(plane, n, max_iter\u001b[38;5;241m=\u001b[39m\u001b[38;5;241m100\u001b[39m):\n\u001b[0;32m     44\u001b[0m     xs, ys \u001b[38;5;241m=\u001b[39m np\u001b[38;5;241m.\u001b[39mrandom\u001b[38;5;241m.\u001b[39muniform(plane[\u001b[38;5;241m0\u001b[39m], plane[\u001b[38;5;241m1\u001b[39m], n), np\u001b[38;5;241m.\u001b[39mrandom\u001b[38;5;241m.\u001b[39muniform(plane[\u001b[38;5;241m2\u001b[39m], plane[\u001b[38;5;241m3\u001b[39m], n)\n\u001b[1;32m---> 45\u001b[0m     membership \u001b[38;5;241m=\u001b[39m \u001b[43mmonte_carlo_p_numpy\u001b[49m\u001b[43m(\u001b[49m\u001b[43mxs\u001b[49m\u001b[43m,\u001b[49m\u001b[43m \u001b[49m\u001b[43mys\u001b[49m\u001b[43m,\u001b[49m\u001b[43m \u001b[49m\u001b[43mmax_iter\u001b[49m\u001b[43m)\u001b[49m\n\u001b[0;32m     46\u001b[0m     \u001b[38;5;28;01mreturn\u001b[39;00m np\u001b[38;5;241m.\u001b[39mmean(membership)\n",
      "Cell \u001b[1;32mIn[124], line 31\u001b[0m, in \u001b[0;36mmonte_carlo_p_numpy\u001b[1;34m(xs, ys, max_iter)\u001b[0m\n\u001b[0;32m     28\u001b[0m result[diverge \u001b[38;5;241m&\u001b[39m mask] \u001b[38;5;241m=\u001b[39m \u001b[38;5;241m0\u001b[39m  \u001b[38;5;66;03m# Diverging points are outside the set\u001b[39;00m\n\u001b[0;32m     29\u001b[0m mask \u001b[38;5;241m=\u001b[39m mask \u001b[38;5;241m&\u001b[39m \u001b[38;5;241m~\u001b[39mdiverge  \u001b[38;5;66;03m# Update mask for points still in the set\u001b[39;00m\n\u001b[1;32m---> 31\u001b[0m \u001b[38;5;28;01mif\u001b[39;00m \u001b[38;5;129;01mnot\u001b[39;00m \u001b[43mmask\u001b[49m\u001b[38;5;241;43m.\u001b[39;49m\u001b[43many\u001b[49m\u001b[43m(\u001b[49m\u001b[43m)\u001b[49m:  \u001b[38;5;66;03m# Stop if all points have diverged\u001b[39;00m\n\u001b[0;32m     32\u001b[0m     \u001b[38;5;28;01mbreak\u001b[39;00m\n\u001b[0;32m     34\u001b[0m \u001b[38;5;66;03m# Update active points\u001b[39;00m\n",
      "File \u001b[1;32m~\\AppData\\Local\\Packages\\PythonSoftwareFoundation.Python.3.10_qbz5n2kfra8p0\\LocalCache\\local-packages\\Python310\\site-packages\\numpy\\core\\_methods.py:58\u001b[0m, in \u001b[0;36m_any\u001b[1;34m(a, axis, dtype, out, keepdims, where)\u001b[0m\n\u001b[0;32m     55\u001b[0m \u001b[38;5;28;01mdef\u001b[39;00m \u001b[38;5;21m_any\u001b[39m(a, axis\u001b[38;5;241m=\u001b[39m\u001b[38;5;28;01mNone\u001b[39;00m, dtype\u001b[38;5;241m=\u001b[39m\u001b[38;5;28;01mNone\u001b[39;00m, out\u001b[38;5;241m=\u001b[39m\u001b[38;5;28;01mNone\u001b[39;00m, keepdims\u001b[38;5;241m=\u001b[39m\u001b[38;5;28;01mFalse\u001b[39;00m, \u001b[38;5;241m*\u001b[39m, where\u001b[38;5;241m=\u001b[39m\u001b[38;5;28;01mTrue\u001b[39;00m):\n\u001b[0;32m     56\u001b[0m     \u001b[38;5;66;03m# Parsing keyword arguments is currently fairly slow, so avoid it for now\u001b[39;00m\n\u001b[0;32m     57\u001b[0m     \u001b[38;5;28;01mif\u001b[39;00m where \u001b[38;5;129;01mis\u001b[39;00m \u001b[38;5;28;01mTrue\u001b[39;00m:\n\u001b[1;32m---> 58\u001b[0m         \u001b[38;5;28;01mreturn\u001b[39;00m \u001b[43mumr_any\u001b[49m\u001b[43m(\u001b[49m\u001b[43ma\u001b[49m\u001b[43m,\u001b[49m\u001b[43m \u001b[49m\u001b[43maxis\u001b[49m\u001b[43m,\u001b[49m\u001b[43m \u001b[49m\u001b[43mdtype\u001b[49m\u001b[43m,\u001b[49m\u001b[43m \u001b[49m\u001b[43mout\u001b[49m\u001b[43m,\u001b[49m\u001b[43m \u001b[49m\u001b[43mkeepdims\u001b[49m\u001b[43m)\u001b[49m\n\u001b[0;32m     59\u001b[0m     \u001b[38;5;28;01mreturn\u001b[39;00m umr_any(a, axis, dtype, out, keepdims, where\u001b[38;5;241m=\u001b[39mwhere)\n",
      "\u001b[1;31mKeyboardInterrupt\u001b[0m: "
     ]
    }
   ],
   "source": [
    "list_of_j = [10**i for i in range(2, 6)]\n",
    "import time\n",
    "restults = []\n",
    "for j in list_of_j:\n",
    "    start = time.time()\n",
    "    planes = make_planes(xrange, yrange, 5, 5)\n",
    "    restults.append(monte_carlo_planes(planes, 100000, max_iter=j))\n",
    "    stop = time.time()\n",
    "    print(f\"Time for j={j}: {stop-start}\")\n",
    "    print(restults)"
   ]
  }
 ],
 "metadata": {
  "kernelspec": {
   "display_name": "Python 3",
   "language": "python",
   "name": "python3"
  },
  "language_info": {
   "codemirror_mode": {
    "name": "ipython",
    "version": 3
   },
   "file_extension": ".py",
   "mimetype": "text/x-python",
   "name": "python",
   "nbconvert_exporter": "python",
   "pygments_lexer": "ipython3",
   "version": "3.10.11"
  }
 },
 "nbformat": 4,
 "nbformat_minor": 2
}
